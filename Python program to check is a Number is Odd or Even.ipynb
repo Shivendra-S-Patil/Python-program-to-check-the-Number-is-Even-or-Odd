{
 "cells": [
  {
   "cell_type": "code",
   "execution_count": null,
   "id": "86088aed",
   "metadata": {},
   "outputs": [],
   "source": [
    "# Pre-defined Variables"
   ]
  },
  {
   "cell_type": "code",
   "execution_count": 4,
   "id": "eb93d81f",
   "metadata": {},
   "outputs": [
    {
     "name": "stdout",
     "output_type": "stream",
     "text": [
      "It is an Even Number\n"
     ]
    }
   ],
   "source": [
    "num = 88 # num variable is defined, the value 88 is assigned to the variable num.\n",
    "\n",
    "if num % 2 == 0: #This is an if statement that checks if the remainder of num divided by 2 is equal to 0.\n",
    "    print(\"It is an Even Number\") #If the condition in the if statement is true, this line will print \"It is an Even Number\".\n",
    "else: # This is part of the if statement and specifies what to do if the condition in line 2 is false \n",
    "    print(\"It is an Odd Number\") #If num is not even (i.e., it's odd), this line will print \"It ia an Odd Number\"."
   ]
  },
  {
   "cell_type": "code",
   "execution_count": null,
   "id": "6efa0a66",
   "metadata": {},
   "outputs": [],
   "source": [
    "# Variables are not defined"
   ]
  },
  {
   "cell_type": "code",
   "execution_count": 6,
   "id": "afdaf33c",
   "metadata": {},
   "outputs": [
    {
     "name": "stdout",
     "output_type": "stream",
     "text": [
      "Enter the number here: 11\n",
      "It ia an Odd Number\n"
     ]
    }
   ],
   "source": [
    "num = int(input(\"Enter the number here: \")) # This line asks the user to input a number, converts it to an integer using int(), and assigns it to the variable num.\n",
    "\n",
    "if num % 2 == 0: #This is another if statement that checks if the remainder of the new value of num divided by 2 is equal to 0, similar to line 2.\n",
    "    print(\"It is an Even Number\") #If the condition in line 7 is true, this line will print \"It is an Even Number\".\n",
    "else: #This is the else part of the if statement from line 7, specifying what to do if the condition is false\n",
    "    print(\"It ia an Odd Number\") # If num is not even, this line will print \"It ia an Odd Number\"."
   ]
  }
 ],
 "metadata": {
  "kernelspec": {
   "display_name": "Python 3 (ipykernel)",
   "language": "python",
   "name": "python3"
  },
  "language_info": {
   "codemirror_mode": {
    "name": "ipython",
    "version": 3
   },
   "file_extension": ".py",
   "mimetype": "text/x-python",
   "name": "python",
   "nbconvert_exporter": "python",
   "pygments_lexer": "ipython3",
   "version": "3.9.13"
  }
 },
 "nbformat": 4,
 "nbformat_minor": 5
}
